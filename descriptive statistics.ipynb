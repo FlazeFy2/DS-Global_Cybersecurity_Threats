{
 "cells": [
  {
   "cell_type": "code",
   "execution_count": 6,
   "id": "90523722-f8e3-4b5a-9ea0-d91ccaa9d9a3",
   "metadata": {},
   "outputs": [
    {
     "name": "stdout",
     "output_type": "stream",
     "text": [
      "Max of Year : 2024\n",
      "Min of Year : 2015\n",
      "Range of Year : 9\n",
      "Mean of Year : 2019.57\n",
      "Mode of Year : 2017\n",
      "Variance of Year : 8.17\n",
      "Standard Deviance of Year : 2.86\n",
      "\n",
      "Max of Financial Loss (In Million $) : 99.99\n",
      "Min of Financial Loss (In Million $) : 0.5\n",
      "Range of Financial Loss (In Million $) : 99.49\n",
      "Mean of Financial Loss (In Million $) : 50.49\n",
      "Mode of Financial Loss (In Million $) : 17.99\n",
      "Variance of Financial Loss (In Million $) : 828.95\n",
      "Standard Deviance of Financial Loss (In Million $) : 28.79\n",
      "\n",
      "Max of Number Of Affected Users : 999635\n",
      "Min of Number Of Affected Users : 424\n",
      "Range of Number Of Affected Users : 999211\n",
      "Mean of Number Of Affected Users : 504684.14\n",
      "Mode of Number Of Affected Users : 737958\n",
      "Variance of Number Of Affected Users : 84067572410.22\n",
      "Standard Deviance of Number Of Affected Users : 289944.08\n",
      "\n",
      "Max of Incident Resolution Time (In Hours) : 72\n",
      "Min of Incident Resolution Time (In Hours) : 1\n",
      "Range of Incident Resolution Time (In Hours) : 71\n",
      "Mean of Incident Resolution Time (In Hours) : 36.48\n",
      "Mode of Incident Resolution Time (In Hours) : 43\n",
      "Variance of Incident Resolution Time (In Hours) : 423.16\n",
      "Standard Deviance of Incident Resolution Time (In Hours) : 20.57\n",
      "\n"
     ]
    }
   ],
   "source": [
    "import pandas as pd\n",
    "import statistics\n",
    "import numpy as np\n",
    "\n",
    "# Declaration\n",
    "data = pd.read_csv(\"Global_Cybersecurity_Threats_2015-2024.csv\")\n",
    "\n",
    "target_col = ['Year','Financial Loss (in Million $)','Number of Affected Users','Incident Resolution Time (in Hours)']\n",
    "\n",
    "for dt in target_col:\n",
    "    # Convert to int\n",
    "    data[dt] = pd.to_numeric(data[dt], errors='coerce')\n",
    "    \n",
    "    # Remove NaN\n",
    "    data = data.dropna(subset=[dt])\n",
    "\n",
    "    max_val = data[dt].max()\n",
    "    min_val = data[dt].min()\n",
    "    range_val = max_val - min_val\n",
    "    mean = round(data[dt].mean(),2)\n",
    "    mode = round(statistics.mode(data[dt]),2)\n",
    "    var = round(np.nanvar(data[dt],ddof=1),2)\n",
    "    std = round(var ** 0.5,2)\n",
    "\n",
    "    print(f\"Max of {dt.title()} : {max_val}\")\n",
    "    print(f\"Min of {dt.title()} : {min_val}\")\n",
    "    print(f\"Range of {dt.title()} : {range_val}\")\n",
    "    print(f\"Mean of {dt.title()} : {mean}\")\n",
    "    print(f\"Mode of {dt.title()} : {mode}\")\n",
    "    print(f\"Variance of {dt.title()} : {var}\")\n",
    "    print(f\"Standard Deviance of {dt.title()} : {std}\\n\")"
   ]
  },
  {
   "cell_type": "code",
   "execution_count": null,
   "id": "534e899e-bff9-4611-b04b-e7454fcb79bf",
   "metadata": {},
   "outputs": [],
   "source": []
  }
 ],
 "metadata": {
  "kernelspec": {
   "display_name": "Python [conda env:base] *",
   "language": "python",
   "name": "conda-base-py"
  },
  "language_info": {
   "codemirror_mode": {
    "name": "ipython",
    "version": 3
   },
   "file_extension": ".py",
   "mimetype": "text/x-python",
   "name": "python",
   "nbconvert_exporter": "python",
   "pygments_lexer": "ipython3",
   "version": "3.12.7"
  }
 },
 "nbformat": 4,
 "nbformat_minor": 5
}
